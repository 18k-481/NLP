{
  "nbformat": 4,
  "nbformat_minor": 0,
  "metadata": {
    "colab": {
      "name": "NLP_1.ipynb",
      "provenance": [],
      "collapsed_sections": [],
      "authorship_tag": "ABX9TyNJLSPYVTErVWfZaMqHyyId",
      "include_colab_link": true
    },
    "kernelspec": {
      "name": "python3",
      "display_name": "Python 3"
    },
    "language_info": {
      "name": "python"
    }
  },
  "cells": [
    {
      "cell_type": "markdown",
      "metadata": {
        "id": "view-in-github",
        "colab_type": "text"
      },
      "source": [
        "<a href=\"https://colab.research.google.com/github/18k-481/NLP/blob/main/NLP_1.ipynb\" target=\"_parent\"><img src=\"https://colab.research.google.com/assets/colab-badge.svg\" alt=\"Open In Colab\"/></a>"
      ]
    },
    {
      "cell_type": "code",
      "metadata": {
        "id": "F9S7seRcCTuq",
        "colab": {
          "base_uri": "https://localhost:8080/"
        },
        "outputId": "bf18ef41-87cd-46cc-f09f-7508bee3d22c"
      },
      "source": [
        "import nltk\n",
        "nltk.download('punkt')"
      ],
      "execution_count": 15,
      "outputs": [
        {
          "output_type": "stream",
          "name": "stdout",
          "text": [
            "[nltk_data] Downloading package punkt to /root/nltk_data...\n",
            "[nltk_data]   Package punkt is already up-to-date!\n"
          ]
        },
        {
          "output_type": "execute_result",
          "data": {
            "text/plain": [
              "True"
            ]
          },
          "metadata": {},
          "execution_count": 15
        }
      ]
    },
    {
      "cell_type": "code",
      "metadata": {
        "colab": {
          "base_uri": "https://localhost:8080/"
        },
        "id": "_o0E0LOGqPUo",
        "outputId": "a98d17bc-f218-4ddd-b27d-24fd9e72195b"
      },
      "source": [
        "#1 splitting into sentences\n",
        "from nltk.tokenize import sent_tokenize\n",
        "data = '''Are  you  fascinated  by  the  amount  of  text  data  available  on  the  internet?  Are  you looking  for  ways  to  work  with  this  text  data  but  aren’t  sure  where  to  begin? Machines, after all, recognize numbers, not the letters of our language. And that can be a tricky landscape to navigate in machine learning.'''\n",
        "s=''\n",
        "s=sent_tokenize(data)\n",
        "for i in s:\n",
        "    print(i)"
      ],
      "execution_count": 16,
      "outputs": [
        {
          "output_type": "stream",
          "name": "stdout",
          "text": [
            "Are  you  fascinated  by  the  amount  of  text  data  available  on  the  internet?\n",
            "Are  you looking  for  ways  to  work  with  this  text  data  but  aren’t  sure  where  to  begin?\n",
            "Machines, after all, recognize numbers, not the letters of our language.\n",
            "And that can be a tricky landscape to navigate in machine learning.\n"
          ]
        }
      ]
    },
    {
      "cell_type": "code",
      "metadata": {
        "colab": {
          "base_uri": "https://localhost:8080/"
        },
        "id": "qxTUUwisrTJp",
        "outputId": "3c995419-72c7-4d6d-e026-c7c92e98279b"
      },
      "source": [
        "#2 word splitting\n",
        "from nltk.tokenize import word_tokenize\n",
        "data = '''Are  you  fascinated  by  the  amount  of  text  data  available  on  the  internet?  Are  you looking  for  ways  to  work  with  this  text  data  but  aren’t  sure  where  to  begin? Machines, after all, recognize numbers, not the letters of our language. And that can be a tricky landscape to navigate in machine learning.'''\n",
        "s=''\n",
        "s=word_tokenize(data)\n",
        "for i in s:\n",
        "    print(i)\n"
      ],
      "execution_count": 17,
      "outputs": [
        {
          "output_type": "stream",
          "name": "stdout",
          "text": [
            "Are\n",
            "you\n",
            "fascinated\n",
            "by\n",
            "the\n",
            "amount\n",
            "of\n",
            "text\n",
            "data\n",
            "available\n",
            "on\n",
            "the\n",
            "internet\n",
            "?\n",
            "Are\n",
            "you\n",
            "looking\n",
            "for\n",
            "ways\n",
            "to\n",
            "work\n",
            "with\n",
            "this\n",
            "text\n",
            "data\n",
            "but\n",
            "aren\n",
            "’\n",
            "t\n",
            "sure\n",
            "where\n",
            "to\n",
            "begin\n",
            "?\n",
            "Machines\n",
            ",\n",
            "after\n",
            "all\n",
            ",\n",
            "recognize\n",
            "numbers\n",
            ",\n",
            "not\n",
            "the\n",
            "letters\n",
            "of\n",
            "our\n",
            "language\n",
            ".\n",
            "And\n",
            "that\n",
            "can\n",
            "be\n",
            "a\n",
            "tricky\n",
            "landscape\n",
            "to\n",
            "navigate\n",
            "in\n",
            "machine\n",
            "learning\n",
            ".\n"
          ]
        }
      ]
    },
    {
      "cell_type": "code",
      "metadata": {
        "colab": {
          "base_uri": "https://localhost:8080/"
        },
        "id": "9dU_KCdXrtYm",
        "outputId": "f450d9c2-b1f7-46a8-cdb1-847332edb9c0"
      },
      "source": [
        "#3-1 stem words\n",
        "from nltk.stem import PorterStemmer \n",
        "from nltk.tokenize import word_tokenize\n",
        "data=[\"cats\",\"trouble\",\"troubling\",\"troubled\",\"having\",\"Corriendo\",\"at\",\"was\"]\n",
        "x=PorterStemmer()\n",
        "for i in data:\n",
        "    print(i,x.stem(i))"
      ],
      "execution_count": 18,
      "outputs": [
        {
          "output_type": "stream",
          "name": "stdout",
          "text": [
            "cats cat\n",
            "trouble troubl\n",
            "troubling troubl\n",
            "troubled troubl\n",
            "having have\n",
            "Corriendo corriendo\n",
            "at at\n",
            "was wa\n"
          ]
        }
      ]
    },
    {
      "cell_type": "code",
      "metadata": {
        "colab": {
          "base_uri": "https://localhost:8080/"
        },
        "id": "7Jid2HDNsbj-",
        "outputId": "e42c53c5-c482-48ad-f9f5-d8244cc82cb1"
      },
      "source": [
        "#3-2 lemma words\n",
        "nltk.download('wordnet')\n",
        "from nltk.stem import WordNetLemmatizer\n",
        "data=[\"cats\",\"trouble\",\"troubling\",\"troubled\",\"having\",\"Corriendo\",\"at\",\"was\"]\n",
        "x= WordNetLemmatizer()\n",
        "for i in data:\n",
        "    print(i,x.lemmatize(i))"
      ],
      "execution_count": 19,
      "outputs": [
        {
          "output_type": "stream",
          "name": "stdout",
          "text": [
            "[nltk_data] Downloading package wordnet to /root/nltk_data...\n",
            "[nltk_data]   Package wordnet is already up-to-date!\n",
            "cats cat\n",
            "trouble trouble\n",
            "troubling troubling\n",
            "troubled troubled\n",
            "having having\n",
            "Corriendo Corriendo\n",
            "at at\n",
            "was wa\n"
          ]
        }
      ]
    },
    {
      "cell_type": "code",
      "metadata": {
        "colab": {
          "base_uri": "https://localhost:8080/"
        },
        "id": "YpsvoIdLtXTX",
        "outputId": "75081ef0-d7a2-4d5d-a9d3-46a23860c860"
      },
      "source": [
        "#4 stop words\n",
        "nltk.download('stopwords')\n",
        "from nltk.corpus import stopwords\n",
        "stop_words=set(stopwords.words(\"english\"))\n",
        "data=\"\"\"\n",
        "“The NLTK library is one of the oldest and most commonly used Python libraries for Natural Language Processing. NLTK supports stop word removal, and you can find the list of stop words in the corpus module. To remove stop words from a sentence, you can divide your text into words and then remove the word if it exits in the list of stop words provided by NLTK.”\n",
        "\"\"\"\n",
        "words=word_tokenize(data)\n",
        "s=[]\n",
        "for w in words:\n",
        "    if w not in stop_words:\n",
        "        s.append(w)\n",
        "print(s)"
      ],
      "execution_count": 20,
      "outputs": [
        {
          "output_type": "stream",
          "name": "stdout",
          "text": [
            "[nltk_data] Downloading package stopwords to /root/nltk_data...\n",
            "[nltk_data]   Package stopwords is already up-to-date!\n",
            "['“', 'The', 'NLTK', 'library', 'one', 'oldest', 'commonly', 'used', 'Python', 'libraries', 'Natural', 'Language', 'Processing', '.', 'NLTK', 'supports', 'stop', 'word', 'removal', ',', 'find', 'list', 'stop', 'words', 'corpus', 'module', '.', 'To', 'remove', 'stop', 'words', 'sentence', ',', 'divide', 'text', 'words', 'remove', 'word', 'exits', 'list', 'stop', 'words', 'provided', 'NLTK', '.', '”']\n"
          ]
        }
      ]
    },
    {
      "cell_type": "code",
      "metadata": {
        "colab": {
          "base_uri": "https://localhost:8080/"
        },
        "id": "TSTX4QWSttX-",
        "outputId": "9c53ebef-a1bd-4b5f-9c18-a5003558846f"
      },
      "source": [
        "#5 frequency of each word\n",
        "import nltk\n",
        "from nltk.corpus import webtext\n",
        "from nltk.probability import FreqDist\n",
        "from nltk.tokenize import word_tokenize\n",
        "data=\"\"\"\n",
        "“The NLTK library is one of the oldest and most commonly used Python libraries for Natural Language Processing. NLTK supports stop word removal, and you can find the list of stop words in the corpus module. To remove stop words from a sentence, you can divide your text into words and then remove the word if it exits in the list of stop words provided by NLTK.”\n",
        "\"\"\"\n",
        "x= word_tokenize(data)\n",
        "y = nltk.FreqDist(x)\n",
        "f = dict([(m, n) for m, n in y.items() if len(m) > 3])\n",
        "for i in sorted(f):\n",
        "    print(\"%s: %s\" % (i, f[i]))"
      ],
      "execution_count": 21,
      "outputs": [
        {
          "output_type": "stream",
          "name": "stdout",
          "text": [
            "Language: 1\n",
            "NLTK: 3\n",
            "Natural: 1\n",
            "Processing: 1\n",
            "Python: 1\n",
            "commonly: 1\n",
            "corpus: 1\n",
            "divide: 1\n",
            "exits: 1\n",
            "find: 1\n",
            "from: 1\n",
            "into: 1\n",
            "libraries: 1\n",
            "library: 1\n",
            "list: 2\n",
            "module: 1\n",
            "most: 1\n",
            "oldest: 1\n",
            "provided: 1\n",
            "removal: 1\n",
            "remove: 2\n",
            "sentence: 1\n",
            "stop: 4\n",
            "supports: 1\n",
            "text: 1\n",
            "then: 1\n",
            "used: 1\n",
            "word: 2\n",
            "words: 4\n",
            "your: 1\n"
          ]
        }
      ]
    }
  ]
}